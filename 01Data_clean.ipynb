{
 "cells": [
  {
   "cell_type": "code",
   "execution_count": 2,
   "metadata": {},
   "outputs": [],
   "source": [
    "import pandas as pd\n",
    "import numpy as np\n",
    "\n",
    "import seaborn as sns\n",
    "import warnings\n",
    "warnings.filterwarnings(\"ignore\")"
   ]
  },
  {
   "cell_type": "markdown",
   "metadata": {},
   "source": [
    "### Data Clean"
   ]
  },
  {
   "cell_type": "code",
   "execution_count": 45,
   "metadata": {},
   "outputs": [
    {
     "name": "stdout",
     "output_type": "stream",
     "text": [
      "Start shape:  (28973, 21)\n",
      "Final shape: (26406, 18)\n"
     ]
    }
   ],
   "source": [
    "dfa=pd.read_csv(\"out.csv\")\n",
    "dfd=pd.read_csv(\"out4.csv\")\n",
    "dfe=pd.read_csv(\"out5.csv\")\n",
    "dff=pd.read_csv(\"out6.csv\")\n",
    "dfg=pd.read_csv(\"out7.csv\")\n",
    "dfi=pd.read_csv(\"out10.csv\")\n",
    "dfj=pd.read_csv(\"out11.csv\")\n",
    "\n",
    "df=pd.DataFrame()\n",
    "df=df.append(dfa)\n",
    "df=df.append(dfd)\n",
    "df=df.append(dfe)\n",
    "df=df.append(dff)\n",
    "df=df.append(dfg)\n",
    "df=df.append(dfi)\n",
    "df=df.append(dfj)\n",
    "print(\"Start shape: \",df.shape)\n",
    "\n",
    "dfname = df['name'].str.split(expand=True)\n",
    "\n",
    "# Create brand(name0), modell(name) features\n",
    "df['name0'] = dfname[0]\n",
    "df['name'] = dfname[1]\n",
    "\n",
    "#Clean 'price' feature\n",
    "price_filter = {'Ft':'', '\\xa0':'', '€':np.nan, \n",
    "                'Kč':np.nan, 'Ár nélkül':np.nan, 'Nincs megadva':np.nan}\n",
    "df['price'] = df['price'].replace(price_filter, regex=True)\n",
    "df['price'] = df['price'].astype(float)\n",
    "\n",
    "#Clean 'year' feature\n",
    "dfname = df['year'].str.split('/', expand=True)\n",
    "dfname = dfname[0].str.split('(', expand=True)\n",
    "\n",
    "df['year'] = dfname[0]\n",
    "df['year'] = df['year'].astype(float)\n",
    "\n",
    "#Clean 'clock' feature\n",
    "clock_filter = {'km':'', '\\xa0':'', 'Nincs megadva':np.nan}\n",
    "df['clock'] = df['clock'].replace(clock_filter, regex=True)\n",
    "df['clock'] = df['clock'].astype(float)\n",
    "\n",
    "#Clean 'travel' feature\n",
    "df['travel'] = df['travel'].replace({'fő':''}, regex=True)\n",
    "df['travel'] = df['travel'].astype(float)\n",
    "\n",
    "#Clean 'selfweight' feature\n",
    "df['selfweight'] = df['selfweight'].replace({'kg':'', '\\xa0':''}, regex=True)\n",
    "df['selfweight'] = df['selfweight'].astype(float)\n",
    "\n",
    "#Clean 'fullweight' feature\n",
    "df['fullweight'] = df['fullweight'].replace({'kg':'', '\\xa0':''}, regex=True)\n",
    "df['fullweight'] = df['fullweight'].astype(float)\n",
    "\n",
    "#Clean 'power' feature\n",
    "dfname = df['power'].str.split(',', expand=True)\n",
    "dfname[0] = dfname[0].replace({'kW' : ''}, regex=True)\n",
    "dfname[0]\n",
    "df['power'] = dfname[0]\n",
    "\n",
    "#Drop unwanted columns\n",
    "drop_columns = ['Unnamed: 0', 'examyear', 'back', 'geartype']\n",
    "df = df.drop(columns=drop_columns, axis=1)\n",
    "\n",
    "df['kod'] = df['kod'].replace({'\\(Hirdetéskód: ':'', '\\)':''}, regex=True)\n",
    "df['kod'] = df['kod'].astype(int)\n",
    "\n",
    "#Filter outliars\n",
    "\n",
    "df = df[(df.clock < 500000) & (df.clock > 5000)]\n",
    "df = df[(df.selfweight < 4000) & (df.selfweight > 500)]\n",
    "df = df[(df.fullweight < 5000) & (df.fullweight > 1000)]\n",
    "df = df[df.travel < 9]\n",
    "df['airc']=df['airc'].fillna('Nincs')\n",
    "\n",
    "#Clean 'gearsize'\n",
    "df['gearsize']=df['gearsize'].replace({'cm³':'', '\\xa0':''}, regex=True)\n",
    "df['gearsize']=df['gearsize'].astype(float)\n",
    "\n",
    "df['look']=df['look'].replace({'Városi terepjáró \\(crossover\\)':'Crossover'}, regex=True)\n",
    "\n",
    "\n",
    "df.to_csv('all_clean.csv')\n",
    "print('Final shape:',df.shape)"
   ]
  }
 ],
 "metadata": {
  "kernelspec": {
   "display_name": "Python 3",
   "language": "python",
   "name": "python3"
  },
  "language_info": {
   "codemirror_mode": {
    "name": "ipython",
    "version": 3
   },
   "file_extension": ".py",
   "mimetype": "text/x-python",
   "name": "python",
   "nbconvert_exporter": "python",
   "pygments_lexer": "ipython3",
   "version": "3.7.0"
  }
 },
 "nbformat": 4,
 "nbformat_minor": 2
}
