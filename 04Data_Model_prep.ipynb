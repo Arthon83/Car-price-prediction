{
 "cells": [
  {
   "cell_type": "code",
   "execution_count": 1,
   "metadata": {},
   "outputs": [],
   "source": [
    "import numpy as np\n",
    "import pandas as pd\n",
    "import datetime\n",
    "\n",
    "import seaborn as sns\n",
    "import matplotlib.pyplot as plt\n",
    "import pickle"
   ]
  },
  {
   "cell_type": "markdown",
   "metadata": {},
   "source": [
    "### Model preparation"
   ]
  },
  {
   "cell_type": "code",
   "execution_count": 192,
   "metadata": {},
   "outputs": [],
   "source": [
    "dataset=pd.read_csv('all_moddataset.csv')\n",
    "\n",
    "y=dataset['price_log']\n",
    "\n",
    "t=dataset.columns.tolist()\n",
    "t.remove('kod')\n",
    "t.remove('price')\n",
    "t.remove('price_log')\n",
    "t.remove('Id')\n",
    "t.remove('index')\n",
    "t.remove('Unnamed: 0')\n",
    "t.remove('clock')\n",
    "\n",
    "\n",
    "car_features=t\n",
    "\n",
    "from sklearn.model_selection import train_test_split\n",
    "from sklearn.metrics import mean_absolute_error\n",
    "\n",
    "X=dataset[car_features]\n",
    "train_X, val_X, train_y, val_y =train_test_split(X,y, random_state=42,test_size=0.05)\n",
    "\n",
    "mae_compare = pd.Series()\n",
    "mae_compare.index.name = 'Algorithm'\n"
   ]
  },
  {
   "cell_type": "code",
   "execution_count": 191,
   "metadata": {},
   "outputs": [
    {
     "data": {
      "text/html": [
       "<div>\n",
       "<style scoped>\n",
       "    .dataframe tbody tr th:only-of-type {\n",
       "        vertical-align: middle;\n",
       "    }\n",
       "\n",
       "    .dataframe tbody tr th {\n",
       "        vertical-align: top;\n",
       "    }\n",
       "\n",
       "    .dataframe thead th {\n",
       "        text-align: right;\n",
       "    }\n",
       "</style>\n",
       "<table border=\"1\" class=\"dataframe\">\n",
       "  <thead>\n",
       "    <tr style=\"text-align: right;\">\n",
       "      <th></th>\n",
       "      <th>fullweight</th>\n",
       "      <th>gearsize</th>\n",
       "      <th>power</th>\n",
       "      <th>selfweight</th>\n",
       "      <th>status</th>\n",
       "      <th>travel</th>\n",
       "      <th>year</th>\n",
       "      <th>name0_FORD</th>\n",
       "      <th>name0_HONDA</th>\n",
       "      <th>name0_MITSUBISHI</th>\n",
       "      <th>...</th>\n",
       "      <th>name0_SUZUKI</th>\n",
       "      <th>fuel_Benzin</th>\n",
       "      <th>fuel_Benzin/Gáz</th>\n",
       "      <th>fuel_Dízel</th>\n",
       "      <th>fuel_Egyéb</th>\n",
       "      <th>fuel_Hibrid (Benzin)</th>\n",
       "      <th>age</th>\n",
       "      <th>load</th>\n",
       "      <th>ca</th>\n",
       "      <th>clock_log</th>\n",
       "    </tr>\n",
       "  </thead>\n",
       "  <tbody>\n",
       "    <tr>\n",
       "      <th>3265</th>\n",
       "      <td>2140.0</td>\n",
       "      <td>2204.0</td>\n",
       "      <td>105</td>\n",
       "      <td>1631.0</td>\n",
       "      <td>4</td>\n",
       "      <td>5.0</td>\n",
       "      <td>14.0</td>\n",
       "      <td>0</td>\n",
       "      <td>1</td>\n",
       "      <td>0</td>\n",
       "      <td>...</td>\n",
       "      <td>0</td>\n",
       "      <td>0</td>\n",
       "      <td>0</td>\n",
       "      <td>1</td>\n",
       "      <td>0</td>\n",
       "      <td>0</td>\n",
       "      <td>14.0</td>\n",
       "      <td>509.0</td>\n",
       "      <td>10892.0</td>\n",
       "      <td>12.567237</td>\n",
       "    </tr>\n",
       "    <tr>\n",
       "      <th>23387</th>\n",
       "      <td>1530.0</td>\n",
       "      <td>1242.0</td>\n",
       "      <td>60</td>\n",
       "      <td>1055.0</td>\n",
       "      <td>7</td>\n",
       "      <td>5.0</td>\n",
       "      <td>2.0</td>\n",
       "      <td>1</td>\n",
       "      <td>0</td>\n",
       "      <td>0</td>\n",
       "      <td>...</td>\n",
       "      <td>0</td>\n",
       "      <td>1</td>\n",
       "      <td>0</td>\n",
       "      <td>0</td>\n",
       "      <td>0</td>\n",
       "      <td>0</td>\n",
       "      <td>2.0</td>\n",
       "      <td>475.0</td>\n",
       "      <td>9832.0</td>\n",
       "      <td>10.815770</td>\n",
       "    </tr>\n",
       "    <tr>\n",
       "      <th>14115</th>\n",
       "      <td>1565.0</td>\n",
       "      <td>1248.0</td>\n",
       "      <td>55</td>\n",
       "      <td>1070.0</td>\n",
       "      <td>4</td>\n",
       "      <td>5.0</td>\n",
       "      <td>11.0</td>\n",
       "      <td>0</td>\n",
       "      <td>0</td>\n",
       "      <td>0</td>\n",
       "      <td>...</td>\n",
       "      <td>0</td>\n",
       "      <td>0</td>\n",
       "      <td>0</td>\n",
       "      <td>1</td>\n",
       "      <td>0</td>\n",
       "      <td>0</td>\n",
       "      <td>11.0</td>\n",
       "      <td>495.0</td>\n",
       "      <td>11232.0</td>\n",
       "      <td>11.997756</td>\n",
       "    </tr>\n",
       "    <tr>\n",
       "      <th>12223</th>\n",
       "      <td>1935.0</td>\n",
       "      <td>1686.0</td>\n",
       "      <td>75</td>\n",
       "      <td>1380.0</td>\n",
       "      <td>6</td>\n",
       "      <td>5.0</td>\n",
       "      <td>15.0</td>\n",
       "      <td>0</td>\n",
       "      <td>0</td>\n",
       "      <td>0</td>\n",
       "      <td>...</td>\n",
       "      <td>0</td>\n",
       "      <td>0</td>\n",
       "      <td>0</td>\n",
       "      <td>1</td>\n",
       "      <td>0</td>\n",
       "      <td>0</td>\n",
       "      <td>15.0</td>\n",
       "      <td>555.0</td>\n",
       "      <td>12645.0</td>\n",
       "      <td>12.429216</td>\n",
       "    </tr>\n",
       "    <tr>\n",
       "      <th>22099</th>\n",
       "      <td>1740.0</td>\n",
       "      <td>1596.0</td>\n",
       "      <td>85</td>\n",
       "      <td>1257.0</td>\n",
       "      <td>6</td>\n",
       "      <td>5.0</td>\n",
       "      <td>10.0</td>\n",
       "      <td>1</td>\n",
       "      <td>0</td>\n",
       "      <td>0</td>\n",
       "      <td>...</td>\n",
       "      <td>0</td>\n",
       "      <td>1</td>\n",
       "      <td>0</td>\n",
       "      <td>0</td>\n",
       "      <td>0</td>\n",
       "      <td>0</td>\n",
       "      <td>10.0</td>\n",
       "      <td>483.0</td>\n",
       "      <td>9069.0</td>\n",
       "      <td>11.878728</td>\n",
       "    </tr>\n",
       "  </tbody>\n",
       "</table>\n",
       "<p>5 rows × 23 columns</p>\n",
       "</div>"
      ],
      "text/plain": [
       "       fullweight  gearsize  power  selfweight  status  travel  year  \\\n",
       "3265       2140.0    2204.0    105      1631.0       4     5.0  14.0   \n",
       "23387      1530.0    1242.0     60      1055.0       7     5.0   2.0   \n",
       "14115      1565.0    1248.0     55      1070.0       4     5.0  11.0   \n",
       "12223      1935.0    1686.0     75      1380.0       6     5.0  15.0   \n",
       "22099      1740.0    1596.0     85      1257.0       6     5.0  10.0   \n",
       "\n",
       "       name0_FORD  name0_HONDA  name0_MITSUBISHI  ...  name0_SUZUKI  \\\n",
       "3265            0            1                 0  ...             0   \n",
       "23387           1            0                 0  ...             0   \n",
       "14115           0            0                 0  ...             0   \n",
       "12223           0            0                 0  ...             0   \n",
       "22099           1            0                 0  ...             0   \n",
       "\n",
       "       fuel_Benzin  fuel_Benzin/Gáz  fuel_Dízel  fuel_Egyéb  \\\n",
       "3265             0                0           1           0   \n",
       "23387            1                0           0           0   \n",
       "14115            0                0           1           0   \n",
       "12223            0                0           1           0   \n",
       "22099            1                0           0           0   \n",
       "\n",
       "       fuel_Hibrid (Benzin)   age   load       ca  clock_log  \n",
       "3265                      0  14.0  509.0  10892.0  12.567237  \n",
       "23387                     0   2.0  475.0   9832.0  10.815770  \n",
       "14115                     0  11.0  495.0  11232.0  11.997756  \n",
       "12223                     0  15.0  555.0  12645.0  12.429216  \n",
       "22099                     0  10.0  483.0   9069.0  11.878728  \n",
       "\n",
       "[5 rows x 23 columns]"
      ]
     },
     "execution_count": 191,
     "metadata": {},
     "output_type": "execute_result"
    }
   ],
   "source": [
    "val_X.head()"
   ]
  },
  {
   "cell_type": "code",
   "execution_count": null,
   "metadata": {},
   "outputs": [],
   "source": [
    "from sklearn.model_selection import GridSearchCV\n",
    "\n",
    "\n",
    "param_grid = {\n",
    "    'max_depth': [int(x) for x in np.linspace(10, 60, num = 25)],\n",
    "    'max_features': ['auto', 'sqrt'],\n",
    "    'min_samples_leaf': [ 2, 4],\n",
    "    'min_samples_split': [5, 10],\n",
    "    'n_estimators': [int(x) for x in np.linspace(start = 50, stop = 300, num = 50)]\n",
    "}\n",
    "from sklearn.ensemble import RandomForestRegressor\n",
    "rf = RandomForestRegressor()\n",
    "\n",
    "\n",
    "grid_search = GridSearchCV(estimator = rf, param_grid = param_grid, \n",
    "                          cv = 3, n_jobs = -1, verbose = 2)\n",
    "\n",
    "\n",
    "grid_search.fit(train_X, train_y)\n",
    "\n",
    "grid_search.best_params_"
   ]
  },
  {
   "cell_type": "code",
   "execution_count": 8,
   "metadata": {},
   "outputs": [
    {
     "data": {
      "text/plain": [
       "RandomForestRegressor(bootstrap=True, criterion='mse', max_depth=20,\n",
       "           max_features=3, max_leaf_nodes=None, min_impurity_decrease=0.0,\n",
       "           min_impurity_split=None, min_samples_leaf=3,\n",
       "           min_samples_split=4, min_weight_fraction_leaf=0.0,\n",
       "           n_estimators=40, n_jobs=None, oob_score=False,\n",
       "           random_state=None, verbose=0, warm_start=False)"
      ]
     },
     "execution_count": 8,
     "metadata": {},
     "output_type": "execute_result"
    }
   ],
   "source": [
    "best_grid = grid_search.best_estimator_\n",
    "best_grid"
   ]
  },
  {
   "cell_type": "code",
   "execution_count": 187,
   "metadata": {},
   "outputs": [
    {
     "name": "stderr",
     "output_type": "stream",
     "text": [
      "[Parallel(n_jobs=1)]: Using backend SequentialBackend with 1 concurrent workers.\n",
      "[Parallel(n_jobs=1)]: Done 351 out of 351 | elapsed:    9.7s finished\n",
      "[Parallel(n_jobs=1)]: Using backend SequentialBackend with 1 concurrent workers.\n",
      "[Parallel(n_jobs=1)]: Done 351 out of 351 | elapsed:    0.0s finished\n",
      "[Parallel(n_jobs=1)]: Using backend SequentialBackend with 1 concurrent workers.\n",
      "[Parallel(n_jobs=1)]: Done 351 out of 351 | elapsed:    9.8s finished\n"
     ]
    },
    {
     "name": "stdout",
     "output_type": "stream",
     "text": [
      "[OK] RandomForest\n"
     ]
    },
    {
     "data": {
      "text/plain": [
       "Algorithm\n",
       "RandomForest    188549.548191\n",
       "dtype: float64"
      ]
     },
     "execution_count": 187,
     "metadata": {},
     "output_type": "execute_result"
    }
   ],
   "source": [
    "\n",
    "from sklearn.metrics import mean_absolute_error\n",
    "from sklearn.metrics import explained_variance_score\n",
    "\n",
    "def inv_y(transformed_y):\n",
    "    return np.exp(transformed_y)\n",
    "\n",
    "\n",
    "rf_model = RandomForestRegressor(n_estimators=351,min_samples_split=4, \n",
    "                                 min_samples_leaf=4, max_features=4, \n",
    "                                 max_depth=30,bootstrap=False,verbose=1)\n",
    "rf_model.fit(train_X, train_y)\n",
    "rf_preds = rf_model.predict(val_X)\n",
    "rf_mae = mean_absolute_error(inv_y(rf_preds), inv_y(val_y))\n",
    "rf_mae2 = explained_variance_score(inv_y(rf_preds), inv_y(val_y))\n",
    "\n",
    "mae_compare['RandomForest'] = rf_mae\n",
    "rf_test=rf_preds\n",
    "pickle.dump(rf_model.fit(train_X,train_y), open(\"rf_model.mod\", 'wb'))\n",
    "pickle.dump(rf_test, open(\"rf_test.t\", 'wb'))\n",
    "pickle.dump(val_y, open(\"val_y.t\", 'wb'))\n",
    "pickle.dump(val_X, open(\"val_X.t\", 'wb'))\n",
    "print('[OK] RandomForest')\n",
    "\n",
    "mae_compare\n"
   ]
  },
  {
   "cell_type": "code",
   "execution_count": 188,
   "metadata": {},
   "outputs": [
    {
     "data": {
      "text/plain": [
       "<matplotlib.axes._subplots.AxesSubplot at 0x1911f8357f0>"
      ]
     },
     "execution_count": 188,
     "metadata": {},
     "output_type": "execute_result"
    },
    {
     "data": {
      "image/png": "[encoded data removed]",
      "text/plain": [
       "<Figure size 432x288 with 1 Axes>"
      ]
     },
     "metadata": {},
     "output_type": "display_data"
    }
   ],
   "source": [
    "result=pd.DataFrame(rf_model.feature_importances_, X.columns).head(30)\n",
    "result.columns=['feature']\n",
    "result.sort_values(by='feature', ascending=False).plot(kind='bar')"
   ]
  },
  {
   "cell_type": "code",
   "execution_count": 22,
   "metadata": {},
   "outputs": [
    {
     "name": "stdout",
     "output_type": "stream",
     "text": [
      "Model Performance\n",
      "Average Error: 0.1581 degrees.\n",
      "Accuracy = 98.84%.\n",
      "98.84185411691237\n"
     ]
    }
   ],
   "source": [
    "def evaluate(model, test_features, test_labels):\n",
    "    predictions = model.predict(test_features)\n",
    "    errors = abs(predictions - test_labels)\n",
    "    mape = 100 * np.mean(errors / test_labels)\n",
    "    accuracy = 100 - mape\n",
    "    print('Model Performance')\n",
    "    print('Average Error: {:0.4f} degrees.'.format(np.mean(errors)))\n",
    "    print('Accuracy = {:0.2f}%.'.format(accuracy))\n",
    "    \n",
    "    return accuracy\n",
    "\n",
    "print(evaluate(rf_model,val_X,val_y))"
   ]
  },
  {
   "cell_type": "code",
   "execution_count": 10,
   "metadata": {},
   "outputs": [],
   "source": [
    "def search_grid_RF(train_X,train_y,val_X,val_y):\n",
    "    l=[]\n",
    "    start_time=datetime.datetime.now()\n",
    "    for nest in range(1,400,50):\n",
    "        for mss in range(2,10,2):\n",
    "            for msl in range(2,10,2):\n",
    "                d={}\n",
    "                test_model = RandomForestRegressor(n_estimators=nest,min_samples_split=mss, min_samples_leaf=msl)\n",
    "                test_model.fit(train_X, train_y)\n",
    "                test_pred=test_model.predict(val_X)\n",
    "                test_mae='{:1.0f}'.format(mean_absolute_error(inv_y(test_pred), inv_y(val_y)))\n",
    "                d['N_est']=nest\n",
    "                d['Mss']=mss\n",
    "                d['Msl']=mss\n",
    "                d['MAE']=test_mae\n",
    "                l.append(d)\n",
    "        print(nest)\n",
    "    tt=pd.DataFrame(l)\n",
    "    tt = tt.astype({\"MAE\":'int64'})\n",
    "    end_time=datetime.datetime.now()\n",
    "    print(end_time-start_time)\n",
    "    return tt\n",
    "\n",
    "\n",
    "def search_grid_GB(train_X,train_y,val_X,val_y):\n",
    "    l=[]\n",
    "    start_time=datetime.datetime.now()\n",
    "    for nest in range(150,150,1):\n",
    "        for lr in range(1,10,1):\n",
    "            for md in range(1,10,1):\n",
    "                d={}\n",
    "                test_model = GradientBoostingRegressor(n_estimators=32, learning_rate=0.1, \n",
    "                                      max_depth=md)\n",
    "                test_model.fit(train_X, train_y)\n",
    "                test_pred=test_model.predict(val_X)\n",
    "                test_mae='{:1.0f}'.format(mean_absolute_error(inv_y(test_pred), inv_y(val_y)))\n",
    "                d['N_est']=nest\n",
    "                d['Mss']=lr\n",
    "                d['Msl']=md\n",
    "                d['MAE']=test_mae\n",
    "                l.append(d)\n",
    "        print(nest)\n",
    "    tt=pd.DataFrame(l)\n",
    "    tt = tt.astype({\"MAE\":'int64'})\n",
    "    end_time=datetime.datetime.now()\n",
    "    print(end_time-start_time)\n",
    "    return tt"
   ]
  },
  {
   "cell_type": "code",
   "execution_count": null,
   "metadata": {},
   "outputs": [],
   "source": [
    "tt=search_grid_RF(train_X,train_y, val_X, val_y)\n",
    "\n"
   ]
  },
  {
   "cell_type": "code",
   "execution_count": null,
   "metadata": {},
   "outputs": [],
   "source": [
    "sns.lineplot(x=\"N_est\", y=\"MAE\",data=tt)"
   ]
  },
  {
   "cell_type": "code",
   "execution_count": null,
   "metadata": {},
   "outputs": [],
   "source": [
    "tt.sort_values(by='MAE').head()"
   ]
  }
 ],
 "metadata": {
  "kernelspec": {
   "display_name": "Python 3",
   "language": "python",
   "name": "python3"
  },
  "language_info": {
   "codemirror_mode": {
    "name": "ipython",
    "version": 3
   },
   "file_extension": ".py",
   "mimetype": "text/x-python",
   "name": "python",
   "nbconvert_exporter": "python",
   "pygments_lexer": "ipython3",
   "version": "3.7.0"
  }
 },
 "nbformat": 4,
 "nbformat_minor": 2
}
